{
 "cells": [
  {
   "cell_type": "code",
   "execution_count": 1,
   "id": "de01cb82-8dbb-474d-9f5e-ea319b742f09",
   "metadata": {},
   "outputs": [],
   "source": [
    "import numpy as np\n",
    "import matplotlib.pyplot as plt\n",
    "from mpl_toolkits.mplot3d import Axes3D\n",
    "from scipy.sparse import diags\n",
    "import time\n",
    "import scienceplots\n",
    "import pandas as pd\n",
    "\n",
    "plt.style.use([\"science\", \"no-latex\"])\n",
    "plt.rcParams.update(\n",
    "    {\n",
    "        \"font.size\": 14\n",
    "        # \"font.family\": \"serif\",\n",
    "        # \"font.serif\": [\"Source Han Serif SC VF\"],\n",
    "    }\n",
    ")"
   ]
  },
  {
   "cell_type": "code",
   "execution_count": 2,
   "id": "7a93e0d5",
   "metadata": {},
   "outputs": [],
   "source": [
    "np.set_printoptions(linewidth=200)"
   ]
  },
  {
   "cell_type": "code",
   "execution_count": 3,
   "id": "3e33703a-3ae1-4785-88ff-119a2b87b87d",
   "metadata": {},
   "outputs": [],
   "source": [
    "def zg(a, b, c, d):\n",
    "    n = len(b) - 1  # Adjust for 0-based indexing\n",
    "    u = np.zeros(n + 1)\n",
    "    l = np.zeros(n + 1)\n",
    "    x = np.zeros(n + 1)\n",
    "    y = np.zeros(n + 1)\n",
    "\n",
    "    # Initialize the first element\n",
    "    if b[0] == 0:\n",
    "        raise ValueError(\"Matrix is singular.\")\n",
    "\n",
    "    u[0] = b[0]\n",
    "\n",
    "    # Forward elimination\n",
    "    for k in range(1, n + 1):\n",
    "        if u[k - 1] == 0:\n",
    "            raise ValueError(\"Matrix is singular.\")\n",
    "        l[k] = a[k] / u[k - 1]\n",
    "        u[k] = b[k] - l[k] * c[k - 1]  # Update u[k] based on l[k]\n",
    "\n",
    "    # Back substitution\n",
    "    y[0] = d[0]\n",
    "\n",
    "    for k in range(1, n + 1):\n",
    "        y[k] = d[k] - l[k] * y[k - 1]\n",
    "\n",
    "    if u[n] == 0:\n",
    "        raise ValueError(\"Matrix is singular.\")\n",
    "\n",
    "    x[n] = y[n] / u[n]\n",
    "    for k in range(n - 1, -1, -1):\n",
    "        x[k] = (y[k] - c[k] * x[k + 1]) / u[k]\n",
    "\n",
    "    return x"
   ]
  },
  {
   "cell_type": "code",
   "execution_count": 4,
   "id": "0632c239-b80a-46dc-943c-54cc4e2ddf63",
   "metadata": {},
   "outputs": [],
   "source": [
    "def J(n=9, max_iter=1000, tol=1e-5):\n",
    "    u = np.zeros([n + 2, n + 2])\n",
    "    h = 1 / (n + 1)\n",
    "    f = np.full([n + 2, n + 2], h**2 * 2)\n",
    "    for k in range(max_iter):\n",
    "        e = 0.0\n",
    "        uo = u.copy()  # 存储上一个迭代步数的解\n",
    "        for j in range(1, n + 1):\n",
    "            for i in range(1, n + 1):\n",
    "                uol = u[i, j].copy()\n",
    "                u[i, j] = (\n",
    "                    uo[i - 1, j] + u[i + 1, j] + uo[i, j - 1] + u[i, j + 1] + f[i, j]\n",
    "                ) / 4\n",
    "                e = e + np.abs(u[i, j] - uol)\n",
    "        if e / n**2 < tol:\n",
    "            break\n",
    "    # print(f\"Jacobi迭代次数为：{k+1}\")\n",
    "    return u, k + 1"
   ]
  },
  {
   "cell_type": "code",
   "execution_count": 5,
   "id": "02569f69-cc1c-4a59-b19c-b7d1fb6a8d50",
   "metadata": {},
   "outputs": [],
   "source": [
    "def GS(n=9, max_iter=1000, tol=1e-5):\n",
    "    u = np.zeros([n + 2, n + 2])\n",
    "    h = 1 / (n + 1)\n",
    "    f = np.full([n + 2, n + 2], h**2 * 2)\n",
    "    for k in range(max_iter):\n",
    "        e = 0.0\n",
    "        for j in range(1, n + 1):\n",
    "            for i in range(1, n + 1):\n",
    "                uo = u[i, j].copy()\n",
    "                u[i, j] = (\n",
    "                    u[i - 1, j] + u[i + 1, j] + u[i, j - 1] + u[i, j + 1] + f[i, j]\n",
    "                ) / 4\n",
    "                e = e + np.abs(u[i, j] - uo)\n",
    "        if e / n**2 < tol:\n",
    "            break\n",
    "    # print(f\"G-S迭代次数为：{k+1}\")\n",
    "    return u, k + 1"
   ]
  },
  {
   "cell_type": "code",
   "execution_count": 6,
   "id": "b5f50725-59ec-4c9f-9e47-7847f113fe3c",
   "metadata": {},
   "outputs": [],
   "source": [
    "def SOR(n=9, max_iter=1000, tol=1e-5, w=1.55):\n",
    "    u = np.zeros([n + 2, n + 2])\n",
    "    h = 1 / (n + 1)\n",
    "    f = np.full([n + 2, n + 2], h**2 * 2)\n",
    "    for k in range(max_iter):\n",
    "        e = 0.0\n",
    "        for j in range(1, n + 1):\n",
    "            for i in range(1, n + 1):\n",
    "                uo = u[i, j].copy()\n",
    "                u[i, j] = (\n",
    "                    (\n",
    "                        (4 / w - 4) * u[i, j]\n",
    "                        + u[i - 1, j]\n",
    "                        + u[i + 1, j]\n",
    "                        + u[i, j - 1]\n",
    "                        + u[i, j + 1]\n",
    "                        + f[i, j]\n",
    "                    )\n",
    "                    * w\n",
    "                    / 4\n",
    "                )\n",
    "                e = e + np.abs(u[i, j] - uo)\n",
    "        if e / n**2 < tol:\n",
    "            break\n",
    "    # print(f\"SOR迭代次数为：{k+1}\")\n",
    "    return u, k + 1"
   ]
  },
  {
   "cell_type": "code",
   "execution_count": 7,
   "id": "5d9e66e5-d272-4af0-b1c8-4593e8e3e66e",
   "metadata": {},
   "outputs": [],
   "source": [
    "def SSOR(n=9, max_iter=1000, tol=1e-5, w=1.55):\n",
    "    u = np.zeros([n + 2, n + 2])\n",
    "    um = np.zeros([n + 2, n + 2])\n",
    "    h = 1 / (n + 1)\n",
    "    f = np.full([n + 2, n + 2], h**2 * 2)\n",
    "    for k in range(max_iter):\n",
    "        e1 = 0.0\n",
    "        e2 = 0.0\n",
    "        for j in range(1, n + 1):\n",
    "            for i in range(1, n + 1):\n",
    "                uo = um[i, j].copy()\n",
    "                um[i, j] = (\n",
    "                    (\n",
    "                        (4 / w - 4) * um[i, j]\n",
    "                        + um[i - 1, j]\n",
    "                        + um[i + 1, j]\n",
    "                        + um[i, j - 1]\n",
    "                        + um[i, j + 1]\n",
    "                        + f[i, j]\n",
    "                    )\n",
    "                    * w\n",
    "                    / 4\n",
    "                )\n",
    "                e1 = e1 + np.abs(um[i, j] - uo)\n",
    "        for j in range(n, 0, -1):\n",
    "            for i in range(n, 0, -1):\n",
    "                uo1 = um[i, j].copy()\n",
    "                u[i, j] = (\n",
    "                    (\n",
    "                        (4 / w - 4) * um[i, j]\n",
    "                        + um[i - 1, j]\n",
    "                        + u[i + 1, j]\n",
    "                        + um[i, j - 1]\n",
    "                        + u[i, j + 1]\n",
    "                        + f[i, j]\n",
    "                    )\n",
    "                    * w\n",
    "                    / 4\n",
    "                )\n",
    "                e2 = e2 + np.abs(u[i, j] - uo1)\n",
    "        if (e1 + e2) / n**2 < tol:\n",
    "            break\n",
    "    # print(f\"SSOR迭代次数为：{k+1}\")\n",
    "    return u, k + 1"
   ]
  },
  {
   "cell_type": "code",
   "execution_count": 8,
   "id": "78635021-22b3-4de0-84eb-0573aa130c18",
   "metadata": {},
   "outputs": [],
   "source": [
    "def BJ(n=9, max_iter=1000, tol=1e-5):\n",
    "    u = np.zeros([n + 2, n + 2])\n",
    "    h = 1 / (n + 1)\n",
    "    f = np.full([n + 2, n + 2], h**2 * 2)\n",
    "    a = -1 * np.ones(n)\n",
    "    b = 4 * np.ones(n)\n",
    "    c = -1 * np.ones(n)\n",
    "    d = np.zeros(n)\n",
    "    for k in range(max_iter):\n",
    "        e = 0.0\n",
    "        u_old = u.copy()\n",
    "        for j in range(1, n + 1):\n",
    "            u_o_n = u[:, j].copy()\n",
    "            d = f[1 : n + 1, j] + u_old[1 : n + 1, j - 1] + u[1 : n + 1, j + 1]\n",
    "            x = zg(a, b, c, d)\n",
    "            u[1 : n + 1, j] = x\n",
    "            e = e + np.linalg.norm(u_o_n - u[:, j], 1)\n",
    "        if e / n**2 < tol:\n",
    "            break\n",
    "    # print(f\"块Jacobi方法迭代次数：{k+1}\")\n",
    "    return u, k + 1"
   ]
  },
  {
   "cell_type": "code",
   "execution_count": 9,
   "id": "f6a0c5d8-9060-486e-9079-70929ad9b4a0",
   "metadata": {},
   "outputs": [],
   "source": [
    "def BGS(n=9, max_iter=1000, tol=1e-5):\n",
    "    u = np.zeros([n + 2, n + 2])\n",
    "    h = 1 / (n + 1)\n",
    "    f = np.zeros([n + 2, n + 2])\n",
    "    f[1 : n + 1, 1 : n + 1] = h**2 * 2  # 仅内部节点赋值\n",
    "    a = -1 * np.ones(n)\n",
    "    b = 4 * np.ones(n)\n",
    "    c = -1 * np.ones(n)\n",
    "    d = np.zeros(n)\n",
    "    for k in range(max_iter):\n",
    "        e = 0.0\n",
    "        for j in range(1, n + 1):\n",
    "            u_old = u[:, j].copy()\n",
    "            d = f[1 : n + 1, j] + u[1 : n + 1, j - 1] + u[1 : n + 1, j + 1]\n",
    "            x = zg(a, b, c, d)\n",
    "            u[1 : n + 1, j] = x\n",
    "            e = e + np.linalg.norm(u_old - u[:, j], 1)\n",
    "        if e / n**2 < tol:\n",
    "            break\n",
    "    # print(f\"块Gauss-Seider方法迭代次数：{k+1}\")\n",
    "    return u, k + 1"
   ]
  },
  {
   "cell_type": "code",
   "execution_count": 10,
   "id": "d6199560-0d65-4c19-a147-45e0c474a264",
   "metadata": {},
   "outputs": [],
   "source": [
    "def BSOR(n=9, max_iter=1000, tol=1e-5, w=1.43):\n",
    "    u = np.zeros([n + 2, n + 2])\n",
    "    h = 1 / (n + 1)\n",
    "    f = np.zeros([n + 2, n + 2])\n",
    "    f[1 : n + 1, 1 : n + 1] = h**2 * 2  # 仅内部节点赋值\n",
    "    a = -1 * np.ones(n)\n",
    "    b = 4 * np.ones(n)\n",
    "    c = -1 * np.ones(n)\n",
    "    d = np.zeros(n)\n",
    "    for k in range(max_iter):\n",
    "        e = 0.0\n",
    "        for j in range(1, n + 1):\n",
    "            u_old = u[:, j].copy()\n",
    "            d = f[1 : n + 1, j] + u[1 : n + 1, j - 1] + u[1 : n + 1, j + 1]\n",
    "            x = zg(a, b, c, d)\n",
    "            u[1 : n + 1, j] = w * x + (1 - w) * u_old[1 : n + 1]\n",
    "            e = e + np.linalg.norm(u_old - u[:, j], 1)\n",
    "        if e / n**2 < tol:\n",
    "            break\n",
    "    # print(f\"块SOR方法迭代次数：{k+1}\")\n",
    "    return u, k + 1"
   ]
  },
  {
   "cell_type": "code",
   "execution_count": 11,
   "id": "8dd28960-4b48-4e7c-b474-e31a3d026421",
   "metadata": {},
   "outputs": [],
   "source": [
    "def BSSOR(n=9, max_iter=1000, tol=1e-5, w=1.43):\n",
    "    u = np.zeros([n + 2, n + 2])\n",
    "    um = np.zeros([n + 2, n + 2])\n",
    "    h = 1 / (n + 1)\n",
    "    f = np.zeros([n + 2, n + 2])\n",
    "    f[1 : n + 1, 1 : n + 1] = h**2 * 2  # 仅内部节点赋值\n",
    "    a = -1 * np.ones(n)\n",
    "    b = 4 * np.ones(n)\n",
    "    c = -1 * np.ones(n)\n",
    "    for k in range(max_iter):\n",
    "        e1 = 0.0\n",
    "        e2 = 0.0\n",
    "        for j in range(1, n + 1):\n",
    "            u_old = um[:, j].copy()\n",
    "            d1 = f[1 : n + 1, j] + um[1 : n + 1, j - 1] + um[1 : n + 1, j + 1]\n",
    "            x = zg(a, b, c, d1)\n",
    "            um[1 : n + 1, j] = w * x + (1 - w) * u_old[1 : n + 1]\n",
    "            e1 = e1 + np.linalg.norm(u_old - um[:, j], 1)\n",
    "        for j in range(n, 0, -1):\n",
    "            um_old = um[:, j].copy()\n",
    "            d2 = f[1 : n + 1, j] + um[1 : n + 1, j - 1] + u[1 : n + 1, j + 1]\n",
    "            x2 = zg(a, b, c, d2)\n",
    "            u[1 : n + 1, j] = w * x2 + (1 - w) * um_old[1 : n + 1]\n",
    "            e2 = e2 + np.linalg.norm(um_old - u[:, j], 1)\n",
    "\n",
    "        if (e1 + e2) / n**2 < tol:\n",
    "            break\n",
    "    # print(f\"块SSOR方法迭代次数：{k+1}\")\n",
    "    return u, k + 1"
   ]
  },
  {
   "cell_type": "code",
   "execution_count": 12,
   "id": "82f836d4-cace-4960-852c-df1625eb1601",
   "metadata": {},
   "outputs": [],
   "source": [
    "def GD(n=9, max_iter=1000, tol=1e-5):\n",
    "    u = np.zeros([n + 2, n + 2])\n",
    "    h = 1 / (n + 1)\n",
    "    f = np.full([n + 2, n + 2], h**2 * 2)\n",
    "\n",
    "    u[0, :] = 0\n",
    "    u[-1, :] = 0\n",
    "    u[:, 0] = 0\n",
    "    u[:, -1] = 0\n",
    "    for k in range(max_iter):\n",
    "        r = np.zeros([n + 2, n + 2])\n",
    "\n",
    "        # 计算残差\n",
    "        for j in range(1, n + 1):\n",
    "            for i in range(1, n + 1):\n",
    "                r[i, j] = f[i, j] - (\n",
    "                    4 * u[i, j] - u[i - 1, j] - u[i + 1, j] - u[i, j - 1] - u[i, j + 1]\n",
    "                )\n",
    "\n",
    "        # 计算步长 alpha\n",
    "        alpha_k = np.sum(r**2) / np.sum(\n",
    "            4 * r[1:-1, 1:-1] ** 2\n",
    "            - r[1:-1, :-2] * r[1:-1, 1:-1]\n",
    "            - r[1:-1, 2:] * r[1:-1, 1:-1]\n",
    "            - r[:-2, 1:-1] * r[1:-1, 1:-1]\n",
    "            - r[2:, 1:-1] * r[1:-1, 1:-1]\n",
    "        )\n",
    "\n",
    "        e = 0.0\n",
    "        # 更新解 u\n",
    "        for j in range(1, n + 1):\n",
    "            for i in range(1, n + 1):\n",
    "                uo = u[i, j].copy()\n",
    "                u[i, j] = u[i, j] + alpha_k * r[i, j]\n",
    "                e = e + np.abs(u[i, j] - uo)\n",
    "\n",
    "        # 检查收敛性\n",
    "        # if np.linalg.norm(u - u_old) / n**2 < tol:\n",
    "        if e / n**2 < tol:\n",
    "            break\n",
    "\n",
    "    # print(f\"最速下降法迭代次数为：{k+1}\")\n",
    "    return u, k + 1"
   ]
  },
  {
   "cell_type": "code",
   "execution_count": 13,
   "id": "4049f29f-f3d4-48db-8f89-6374566fc849",
   "metadata": {},
   "outputs": [],
   "source": [
    "def CG(n=9, max_iter=1000, tol=1e-5):\n",
    "    # 初始化\n",
    "    u = np.zeros([n + 2, n + 2])  # 解的网格 (包括边界)\n",
    "    h = 1 / (n + 1)\n",
    "    f = np.full([n + 2, n + 2], h**2 * 2)\n",
    "    # 设置边界条件 (假设为零)\n",
    "    u[0, :] = 0\n",
    "    u[-1, :] = 0\n",
    "    u[:, 0] = 0\n",
    "    u[:, -1] = 0\n",
    "\n",
    "    r = np.zeros([n + 2, n + 2])\n",
    "    for j in range(1, n + 1):\n",
    "        for i in range(1, n + 1):\n",
    "            r[i, j] = f[i, j] - (\n",
    "                4 * u[i, j] - u[i - 1, j] - u[i + 1, j] - u[i, j - 1] - u[i, j + 1]\n",
    "            )\n",
    "    p = r.copy()\n",
    "\n",
    "    for k in range(max_iter):\n",
    "\n",
    "        # 计算步长 alpha_k\n",
    "        alpha_k = np.sum(r**2) / np.sum(\n",
    "            4 * p[1:-1, 1:-1] * p[1:-1, 1:-1]\n",
    "            - p[1:-1, :-2] * p[1:-1, 1:-1]\n",
    "            - p[1:-1, 2:] * p[1:-1, 1:-1]\n",
    "            - p[:-2, 1:-1] * p[1:-1, 1:-1]\n",
    "            - p[2:, 1:-1] * p[1:-1, 1:-1]\n",
    "        )\n",
    "\n",
    "        e = 0.0\n",
    "        # 更新解 u\n",
    "        for j in range(1, n + 1):\n",
    "            for i in range(1, n + 1):\n",
    "                uo = u[i, j].copy()\n",
    "                u[i, j] = u[i, j] + alpha_k * p[i, j]\n",
    "                e = e + np.abs(u[i, j] - uo)\n",
    "\n",
    "        # 检查收敛性\n",
    "        if e / n**2 < tol:\n",
    "            break\n",
    "\n",
    "        # 更新r\n",
    "        r_old = r.copy()\n",
    "        for j in range(1, n + 1):\n",
    "            for i in range(1, n + 1):\n",
    "                r[i, j] = r[i, j] - alpha_k * (\n",
    "                    4 * p[i, j] - p[i - 1, j] - p[i + 1, j] - p[i, j - 1] - p[i, j + 1]\n",
    "                )\n",
    "\n",
    "        # 计算beta_k\n",
    "        beta_k = np.sum(r**2) / np.sum(r_old**2)\n",
    "\n",
    "        # 计算p(k+1)\n",
    "        for j in range(1, n + 1):\n",
    "            for i in range(1, n + 1):\n",
    "                p[i, j] = r[i, j] + beta_k * p[i, j]\n",
    "\n",
    "    # print(f\"CG法迭代次数为：{k+1}\")\n",
    "    return u, k + 1"
   ]
  },
  {
   "cell_type": "code",
   "execution_count": 14,
   "id": "2f1502a2-af5d-43dd-836b-c1cffb738228",
   "metadata": {},
   "outputs": [],
   "source": [
    "def huatu(data):\n",
    "    # 创建3D图形\n",
    "    fig = plt.figure(figsize=(10, 7))\n",
    "\n",
    "    # 创建3D坐标轴\n",
    "    ax = fig.add_subplot(111, projection=\"3d\")\n",
    "\n",
    "    # 定义x, y的值（网格坐标）\n",
    "    x = np.arange(data.shape[1])\n",
    "    y = np.arange(data.shape[0])\n",
    "    x, y = np.meshgrid(x, y)\n",
    "\n",
    "    # 绘制3D曲面\n",
    "    surf = ax.plot_surface(x, y, data, cmap=\"viridis\")\n",
    "\n",
    "    # 添加颜色条\n",
    "    fig.colorbar(surf)\n",
    "\n",
    "    # 设置标签\n",
    "    ax.set_xlabel(\"X\")\n",
    "    ax.set_ylabel(\"Y\")\n",
    "    ax.set_zlabel(\"Z\")\n",
    "\n",
    "    # 显示图形\n",
    "    plt.show()"
   ]
  },
  {
   "cell_type": "code",
   "execution_count": 15,
   "id": "9769d1a8-9927-463d-a7ea-aa563373b696",
   "metadata": {},
   "outputs": [
    {
     "data": {
      "text/plain": [
       "(17, np.float64(1.55))"
      ]
     },
     "execution_count": 15,
     "metadata": {},
     "output_type": "execute_result"
    },
    {
     "data": {
      "image/png": "[encoded data removed]",
      "text/plain": [
       "<Figure size 350x262.5 with 1 Axes>"
      ]
     },
     "metadata": {},
     "output_type": "display_data"
    }
   ],
   "source": [
    "list1 = []\n",
    "for i in np.linspace(0.01,1.99,100):\n",
    "    list1.append(SOR(w=i)[1])\n",
    "plt.plot(list1)\n",
    "min_value = min(list1)\n",
    "min_index = list1.index(min_value)\n",
    "min_value,np.linspace(0.01,1.99,100)[min_index]"
   ]
  },
  {
   "cell_type": "code",
   "execution_count": 16,
   "id": "f9346cdf",
   "metadata": {},
   "outputs": [
    {
     "data": {
      "text/plain": [
       "17"
      ]
     },
     "execution_count": 16,
     "metadata": {},
     "output_type": "execute_result"
    }
   ],
   "source": [
    "SOR(w=1.55)[1]"
   ]
  },
  {
   "cell_type": "code",
   "execution_count": 17,
   "id": "0f858eeb",
   "metadata": {},
   "outputs": [
    {
     "data": {
      "text/plain": [
       "31"
      ]
     },
     "execution_count": 17,
     "metadata": {},
     "output_type": "execute_result"
    }
   ],
   "source": [
    "SOR(w=1.4)[1]"
   ]
  },
  {
   "cell_type": "code",
   "execution_count": 18,
   "id": "c5ae3475-f06b-4eb4-bd17-7f5ef54d6706",
   "metadata": {},
   "outputs": [
    {
     "data": {
      "text/plain": [
       "[<matplotlib.lines.Line2D at 0x115656544a0>]"
      ]
     },
     "execution_count": 18,
     "metadata": {},
     "output_type": "execute_result"
    },
    {
     "data": {
      "image/png": "[encoded data removed]",
      "text/plain": [
       "<Figure size 350x262.5 with 1 Axes>"
      ]
     },
     "metadata": {},
     "output_type": "display_data"
    }
   ],
   "source": [
    "list2 = []\n",
    "for i in np.linspace(0.01,1.99,100):\n",
    "    list2.append(SSOR(w=i)[1])\n",
    "plt.plot(list2)"
   ]
  },
  {
   "cell_type": "code",
   "execution_count": 19,
   "id": "2253abc1",
   "metadata": {},
   "outputs": [
    {
     "data": {
      "text/plain": [
       "[<matplotlib.lines.Line2D at 0x1156569bfe0>]"
      ]
     },
     "execution_count": 19,
     "metadata": {},
     "output_type": "execute_result"
    },
    {
     "data": {
      "image/png": "[encoded data removed]",
      "text/plain": [
       "<Figure size 350x262.5 with 1 Axes>"
      ]
     },
     "metadata": {},
     "output_type": "display_data"
    }
   ],
   "source": [
    "listBSOR = []\n",
    "for i in np.linspace(0.01,1.99,100):\n",
    "    listBSOR.append(BSOR(w=i)[1])\n",
    "plt.plot(listBSOR)"
   ]
  },
  {
   "cell_type": "code",
   "execution_count": 20,
   "id": "b5684d67",
   "metadata": {},
   "outputs": [
    {
     "data": {
      "text/plain": [
       "[<matplotlib.lines.Line2D at 0x115667d8710>]"
      ]
     },
     "execution_count": 20,
     "metadata": {},
     "output_type": "execute_result"
    },
    {
     "data": {
      "image/png": "[encoded data removed]",
      "text/plain": [
       "<Figure size 350x262.5 with 1 Axes>"
      ]
     },
     "metadata": {},
     "output_type": "display_data"
    }
   ],
   "source": [
    "listBSSOR = []\n",
    "for i in np.linspace(0.01,1.99,100):\n",
    "    listBSSOR.append(BSSOR(w=i)[1])\n",
    "plt.plot(listBSSOR)"
   ]
  },
  {
   "cell_type": "code",
   "execution_count": 21,
   "id": "cc915e2b",
   "metadata": {},
   "outputs": [
    {
     "data": {
      "text/plain": [
       "(17, np.float64(1.55))"
      ]
     },
     "execution_count": 21,
     "metadata": {},
     "output_type": "execute_result"
    }
   ],
   "source": [
    "min_value = min(list1)\n",
    "min_index = list1.index(min_value)\n",
    "min_value,np.linspace(0.01,1.99,100)[min_index]"
   ]
  },
  {
   "cell_type": "code",
   "execution_count": 22,
   "id": "b06868a2",
   "metadata": {},
   "outputs": [
    {
     "data": {
      "text/plain": [
       "(18, np.float64(1.55))"
      ]
     },
     "execution_count": 22,
     "metadata": {},
     "output_type": "execute_result"
    }
   ],
   "source": [
    "min_value = min(list2)\n",
    "min_index = list2.index(min_value)\n",
    "min_value,np.linspace(0.01,1.99,100)[min_index]"
   ]
  },
  {
   "cell_type": "code",
   "execution_count": 23,
   "id": "60d80f31",
   "metadata": {},
   "outputs": [
    {
     "data": {
      "text/plain": [
       "(13, np.float64(1.43))"
      ]
     },
     "execution_count": 23,
     "metadata": {},
     "output_type": "execute_result"
    }
   ],
   "source": [
    "min_value = min(listBSOR)\n",
    "min_index = listBSOR.index(min_value)\n",
    "min_value,np.linspace(0.01,1.99,100)[min_index]"
   ]
  },
  {
   "cell_type": "code",
   "execution_count": 24,
   "id": "3038ca5c",
   "metadata": {},
   "outputs": [
    {
     "data": {
      "text/plain": [
       "(13, np.float64(1.43))"
      ]
     },
     "execution_count": 24,
     "metadata": {},
     "output_type": "execute_result"
    }
   ],
   "source": [
    "min_value = min(listBSSOR)\n",
    "min_index = listBSSOR.index(min_value)\n",
    "min_value,np.linspace(0.01,1.99,100)[min_index]"
   ]
  },
  {
   "cell_type": "code",
   "execution_count": 25,
   "id": "f738ef3e",
   "metadata": {},
   "outputs": [
    {
     "name": "stdout",
     "output_type": "stream",
     "text": [
      "[[0.         0.         0.         0.         0.         0.         0.         0.         0.         0.         0.        ]\n",
      " [0.         0.02562343 0.0412507  0.05079571 0.05600214 0.05765604 0.05600214 0.05079571 0.0412507  0.02562343 0.        ]\n",
      " [0.         0.0412507  0.0685883  0.08592628 0.09554331 0.09862969 0.09554331 0.08592628 0.0685883  0.0412507  0.        ]\n",
      " [0.         0.05079571 0.08592628 0.10877765 0.12162233 0.12576653 0.12162233 0.10877765 0.08592628 0.05079571 0.        ]\n",
      " [0.         0.05600214 0.09554331 0.12162233 0.13641444 0.14119822 0.13641444 0.12162233 0.09554331 0.05600214 0.        ]\n",
      " [0.         0.05765604 0.09862969 0.12576653 0.14119822 0.1461922  0.14119822 0.12576653 0.09862969 0.05765604 0.        ]\n",
      " [0.         0.05600214 0.09554331 0.12162233 0.13641444 0.14119822 0.13641444 0.12162233 0.09554331 0.05600214 0.        ]\n",
      " [0.         0.05079571 0.08592628 0.10877765 0.12162233 0.12576653 0.12162233 0.10877765 0.08592628 0.05079571 0.        ]\n",
      " [0.         0.0412507  0.0685883  0.08592628 0.09554331 0.09862969 0.09554331 0.08592628 0.0685883  0.0412507  0.        ]\n",
      " [0.         0.02562343 0.0412507  0.05079571 0.05600214 0.05765604 0.05600214 0.05079571 0.0412507  0.02562343 0.        ]\n",
      " [0.         0.         0.         0.         0.         0.         0.         0.         0.         0.         0.        ]]\n"
     ]
    }
   ],
   "source": [
    "u = CG()[0]\n",
    "print(u)"
   ]
  },
  {
   "cell_type": "code",
   "execution_count": 35,
   "id": "7fee3385",
   "metadata": {},
   "outputs": [
    {
     "name": "stdout",
     "output_type": "stream",
     "text": [
      "  algorithm  iterations      time\n",
      "0         J         121  0.031220\n",
      "1        GS          68  0.017341\n",
      "2       SOR          17  0.004874\n",
      "3        BJ          69  0.014969\n",
      "4       BGS          39  0.008423\n",
      "5      BSOR          13  0.003185\n",
      "6      SSOR          18  0.010428\n",
      "7     BSSOR          13  0.006417\n",
      "8        GD         108  0.035759\n",
      "9        CG          11  0.004150\n"
     ]
    },
    {
     "data": {
      "image/png": "[encoded data removed]",
      "text/plain": [
       "<Figure size 1000x600 with 2 Axes>"
      ]
     },
     "metadata": {},
     "output_type": "display_data"
    }
   ],
   "source": [
    "# 定义算法列表\n",
    "algorithms = {\n",
    "    \"1\": J,\n",
    "    \"2\": GS,\n",
    "    \"3\": SOR,\n",
    "    \"4\": BJ,\n",
    "    \"5\": BGS,\n",
    "    \"6\": BSOR,\n",
    "    \"7\": SSOR,\n",
    "    \"8\": BSSOR,\n",
    "    \"9\": GD,\n",
    "    \"10\": CG,\n",
    "}\n",
    "\n",
    "\n",
    "choices = list(algorithms.keys())\n",
    "\n",
    "plot = \"y\"\n",
    "\n",
    "metrics = []  # 用于存储每个算法的性能指标\n",
    "\n",
    "for choice in choices:\n",
    "    choice = choice.strip()  # 去掉多余的空格\n",
    "    if choice in algorithms:\n",
    "        algorithm_function = algorithms[choice]\n",
    "\n",
    "        # 多次执行算法并取平均时间\n",
    "        repeat_count = 5  # 可设置为较高值，提升测量准确度\n",
    "        total_time = 0.0\n",
    "        for _ in range(repeat_count):\n",
    "            # 记录开始时间\n",
    "            start_time = time.perf_counter()\n",
    "            \n",
    "            u, k = algorithm_function()\n",
    "\n",
    "            # 记录结束时间和单次时间\n",
    "            end_time = time.perf_counter()\n",
    "            total_time += end_time - start_time\n",
    "\n",
    "        # 计算平均时间\n",
    "        avg_time = total_time / repeat_count\n",
    "\n",
    "        # 存储性能指标\n",
    "        metrics.append(\n",
    "            {\n",
    "                \"algorithm\": algorithm_function.__name__,\n",
    "                \"iterations\": k,\n",
    "                \"time\": avg_time,\n",
    "            }\n",
    "        )\n",
    "    else:\n",
    "        print(f\"无效的选择: {choice}\")\n",
    "\n",
    "print(pd.DataFrame(metrics))\n",
    "if plot:\n",
    "    # 提取数据用于绘图\n",
    "    algorithms = [m[\"algorithm\"] for m in metrics]\n",
    "    iterations = [m[\"iterations\"] for m in metrics]\n",
    "    times = [m[\"time\"] for m in metrics]\n",
    "\n",
    "    fig, ax1 = plt.subplots(figsize=(10, 6))\n",
    "\n",
    "    # 绘制迭代次数柱状图\n",
    "    ax1.bar(algorithms, iterations, alpha=0.6, label=\"Iterations\")\n",
    "    ax1.set_ylabel(\"Iterations\")\n",
    "    ax1.tick_params(axis=\"y\")\n",
    "\n",
    "    # 创建第二个y轴共享x轴，用于绘制时间数据\n",
    "    ax2 = ax1.twinx()\n",
    "    ax2.plot(algorithms, times, marker=\"o\", label=\"Time (s)\")\n",
    "    ax2.set_ylabel(\"Time (s)\")\n",
    "    ax2.tick_params(axis=\"y\")\n",
    "\n",
    "    # 显示图例和标题\n",
    "    fig.legend(loc='upper center', bbox_to_anchor=(0.5, 0.9))  \n",
    "    # fig.suptitle(\"Algorithm Performance Comparison\")\n",
    "    fig.tight_layout()  # 调整布局避免重叠\n",
    "    plt.show()\n",
    "else:\n",
    "    print(\"算法性能指标:\", metrics)\n",
    "    np.set_printoptions(linewidth=200)\n",
    "    print(u)"
   ]
  }
 ],
 "metadata": {
  "kernelspec": {
   "display_name": ".venv",
   "language": "python",
   "name": "python3"
  },
  "language_info": {
   "codemirror_mode": {
    "name": "ipython",
    "version": 3
   },
   "file_extension": ".py",
   "mimetype": "text/x-python",
   "name": "python",
   "nbconvert_exporter": "python",
   "pygments_lexer": "ipython3",
   "version": "3.12.7"
  }
 },
 "nbformat": 4,
 "nbformat_minor": 5
}
